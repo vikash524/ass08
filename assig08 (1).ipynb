{
 "cells": [
  {
   "cell_type": "code",
   "execution_count": 1,
   "id": "fba5774b-8ca2-47e6-a2c4-af5d5c3f43a5",
   "metadata": {},
   "outputs": [
    {
     "name": "stdout",
     "output_type": "stream",
     "text": [
      "This is method 1 from Parent1\n",
      "This is method 2 from Parent2\n",
      "Child class method\n"
     ]
    }
   ],
   "source": [
    "#Q1\n",
    "class Vehicle:\n",
    "    def __init__(self, name_of_vehicle, max_speed, average_of_vehicle):\n",
    "        self.name_of_vehicle = name_of_vehicle\n",
    "        self.max_speed = max_speed\n",
    "        self.average_of_vehicle = average_of_vehicle\n",
    "\n",
    "#Q2\n",
    "class Car(Vehicle):\n",
    "    def __init__(self, name_of_vehicle, max_speed, average_of_vehicle):\n",
    "        super().__init__(name_of_vehicle, max_speed, average_of_vehicle)\n",
    "    \n",
    "    def seating_capacity(self, capacity):\n",
    "        return f\"{self.name_of_vehicle} has a seating capacity of {capacity} passengers.\"\n",
    "\n",
    "#Q3\n",
    "class Parent1:\n",
    "    def method1(self):\n",
    "        print(\"This is method 1 from Parent1\")\n",
    "\n",
    "class Parent2:\n",
    "    def method2(self):\n",
    "        print(\"This is method 2 from Parent2\")\n",
    "\n",
    "class Child(Parent1, Parent2):\n",
    "    pass\n",
    "\n",
    "child_obj = Child()\n",
    "child_obj.method1()\n",
    "child_obj.method2()\n",
    "\n",
    "#Q4\n",
    "class MyClass:\n",
    "    def __init__(self):\n",
    "        self._my_variable = None\n",
    "\n",
    "    def get_my_variable(self):\n",
    "        return self._my_variable\n",
    "\n",
    "    def set_my_variable(self, value):\n",
    "        self._my_variable = value\n",
    "\n",
    "#Q5\n",
    "class Parent:\n",
    "    def show(self):\n",
    "        print(\"Parent class method\")\n",
    "\n",
    "class Child(Parent):\n",
    "    def show(self):\n",
    "        print(\"Child class method\")\n",
    "\n",
    "child_obj = Child()\n",
    "child_obj.show()\n"
   ]
  },
  {
   "cell_type": "code",
   "execution_count": null,
   "id": "aa649f41-184f-47ca-aed0-38f557000cc9",
   "metadata": {},
   "outputs": [],
   "source": []
  }
 ],
 "metadata": {
  "kernelspec": {
   "display_name": "Python 3 (ipykernel)",
   "language": "python",
   "name": "python3"
  },
  "language_info": {
   "codemirror_mode": {
    "name": "ipython",
    "version": 3
   },
   "file_extension": ".py",
   "mimetype": "text/x-python",
   "name": "python",
   "nbconvert_exporter": "python",
   "pygments_lexer": "ipython3",
   "version": "3.10.8"
  }
 },
 "nbformat": 4,
 "nbformat_minor": 5
}
